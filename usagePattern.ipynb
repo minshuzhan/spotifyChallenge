{
 "cells": [
  {
   "cell_type": "code",
   "execution_count": 13,
   "metadata": {
    "collapsed": true
   },
   "outputs": [],
   "source": [
    "import numpy as np\n",
    "import time "
   ]
  },
  {
   "cell_type": "code",
   "execution_count": 4,
   "metadata": {
    "collapsed": false
   },
   "outputs": [],
   "source": [
    "times = np.load('playEnds.npy')\n",
    "users = np.load('users.npy')\n",
    "def playtime(u): \n",
    "    t = times[users==u]\n",
    "    t.sort()\n",
    "    return t[1:]-t[:-1], t"
   ]
  },
  {
   "cell_type": "markdown",
   "metadata": {},
   "source": [
    "### Session extraction\n",
    "We assume a range for the duration of a song and look at all the plays of each user. If the times of two consecutive plays are close, the user probably have skipped a song; if too far, the user probably have ended a session. "
   ]
  },
  {
   "cell_type": "code",
   "execution_count": 5,
   "metadata": {
    "collapsed": true
   },
   "outputs": [],
   "source": [
    "songMax = 1800\n",
    "songMin = 30"
   ]
  },
  {
   "cell_type": "code",
   "execution_count": 6,
   "metadata": {
    "collapsed": false,
    "scrolled": true
   },
   "outputs": [],
   "source": [
    "U = np.loadtxt('user_data_sample.csv', skiprows=1, delimiter=',', dtype = str)\n",
    "uset = U[:,-1]"
   ]
  },
  {
   "cell_type": "code",
   "execution_count": 7,
   "metadata": {
    "collapsed": false
   },
   "outputs": [
    {
     "data": {
      "text/plain": [
       "('d615ca85849d458e9a5d755ec4727e8f',)"
      ]
     },
     "execution_count": 7,
     "metadata": {},
     "output_type": "execute_result"
    }
   ],
   "source": [
    "U[1,-1], "
   ]
  },
  {
   "cell_type": "markdown",
   "metadata": {},
   "source": [
    "### corelation between a user's behavior and her demographic/account information."
   ]
  },
  {
   "cell_type": "code",
   "execution_count": 9,
   "metadata": {
    "collapsed": false
   },
   "outputs": [],
   "source": [
    "# for calculation of account start time\n",
    "t_end = time.mktime(time.strptime('Fri Oct  14 00:00:00 2015'))\n",
    "week = 3600*24*7\n",
    "member_age = U[:,-2].astype(int)"
   ]
  },
  {
   "cell_type": "markdown",
   "metadata": {},
   "source": [
    "Check a random user's listening records:"
   ]
  },
  {
   "cell_type": "code",
   "execution_count": 12,
   "metadata": {
    "collapsed": false
   },
   "outputs": [
    {
     "name": "stdout",
     "output_type": "stream",
     "text": [
      "['female' '45 - 54' 'DE' '40' '3e2c1ffa5c4f4015ba88fdd2b552f357']\n",
      "0 skips, 2 sessions\n",
      "Registered: \tTue Jan  6 23:00:00 2015   \n",
      "First play: \tTue Oct  6 10:59:49 2015   \n",
      "Last play: \tWed Oct 14 17:04:28 2015\n",
      "original play intervals [713079]\n"
     ]
    }
   ],
   "source": [
    "gender = U[:,0]=='female'\n",
    "\n",
    "u = np.random.choice(np.arange(len(U))[gender])\n",
    "\n",
    "tu, t  = playtime(u)\n",
    "print U[u, :]\n",
    "print \"%d skips, %d sessions\" % (np.sum(tu<songMin), np.sum(tu>songMax)+1)\n",
    "print \"Registered: \\t%s   \\nFirst play: \\t%s   \\nLast play: \\t%s\" % (time.ctime(t_end-week*member_age[u]), time.ctime(t[0]), time.ctime(t[-1]))     # v.s. Oct 14th, 2015\n",
    "print \"original play interval(s)\", tu"
   ]
  }
 ],
 "metadata": {
  "kernelspec": {
   "display_name": "Python 2",
   "language": "python",
   "name": "python2"
  },
  "language_info": {
   "codemirror_mode": {
    "name": "ipython",
    "version": 2
   },
   "file_extension": ".py",
   "mimetype": "text/x-python",
   "name": "python",
   "nbconvert_exporter": "python",
   "pygments_lexer": "ipython2",
   "version": "2.7.6"
  }
 },
 "nbformat": 4,
 "nbformat_minor": 0
}
